{
 "cells": [
  {
   "cell_type": "markdown",
   "id": "589730e1",
   "metadata": {},
   "source": [
    "# Delivery Time Analysis\n",
    "\n",
    "This notebook analyzes the food delivery dataset to understand factors that affect delivery time."
   ]
  },
  {
   "cell_type": "code",
   "execution_count": null,
   "id": "80e04c02",
   "metadata": {},
   "outputs": [],
   "source": [
    "import pandas as pd\n",
    "import matplotlib.pyplot as plt\n",
    "import seaborn as sns\n",
    "\n",
    "# Set style for plots\n",
    "sns.set(style=\"whitegrid\")\n",
    "\n",
    "# Load the dataset\n",
    "df = pd.read_csv(\"deliverytime (3).csv\")\n",
    "df.head()"
   ]
  },
  {
   "cell_type": "code",
   "execution_count": null,
   "id": "923d90e3",
   "metadata": {},
   "outputs": [],
   "source": [
    "df.info()"
   ]
  },
  {
   "cell_type": "code",
   "execution_count": null,
   "id": "ed48d920",
   "metadata": {},
   "outputs": [],
   "source": [
    "df.describe()"
   ]
  },
  {
   "cell_type": "code",
   "execution_count": null,
   "id": "99025283",
   "metadata": {},
   "outputs": [],
   "source": [
    "df.isnull().sum()"
   ]
  },
  {
   "cell_type": "markdown",
   "id": "d5328618",
   "metadata": {},
   "source": [
    "## Distribution of Delivery Time"
   ]
  },
  {
   "cell_type": "code",
   "execution_count": null,
   "id": "146b3703",
   "metadata": {},
   "outputs": [],
   "source": [
    "plt.figure(figsize=(8, 5))\n",
    "sns.histplot(df['Time_taken(min)'], kde=True)\n",
    "plt.title('Distribution of Delivery Time')\n",
    "plt.xlabel('Time Taken (min)')\n",
    "plt.ylabel('Frequency')\n",
    "plt.show()"
   ]
  },
  {
   "cell_type": "markdown",
   "id": "2f7b23d4",
   "metadata": {},
   "source": [
    "## Delivery Person Ratings vs Delivery Time"
   ]
  },
  {
   "cell_type": "code",
   "execution_count": null,
   "id": "c2e3485d",
   "metadata": {},
   "outputs": [],
   "source": [
    "plt.figure(figsize=(8, 5))\n",
    "sns.scatterplot(x='Delivery_person_Ratings', y='Time_taken(min)', data=df)\n",
    "plt.title('Ratings vs Delivery Time')\n",
    "plt.xlabel('Delivery Person Ratings')\n",
    "plt.ylabel('Time Taken (min)')\n",
    "plt.show()"
   ]
  },
  {
   "cell_type": "markdown",
   "id": "1f0709da",
   "metadata": {},
   "source": [
    "## Type of Order vs Delivery Time"
   ]
  },
  {
   "cell_type": "code",
   "execution_count": null,
   "id": "931aebc2",
   "metadata": {},
   "outputs": [],
   "source": [
    "plt.figure(figsize=(10, 6))\n",
    "sns.boxplot(x='Type_of_order', y='Time_taken(min)', data=df)\n",
    "plt.title('Type of Order vs Delivery Time')\n",
    "plt.xlabel('Type of Order')\n",
    "plt.ylabel('Time Taken (min)')\n",
    "plt.show()"
   ]
  },
  {
   "cell_type": "markdown",
   "id": "6e0a1e6e",
   "metadata": {},
   "source": [
    "## Type of Vehicle vs Delivery Time"
   ]
  },
  {
   "cell_type": "code",
   "execution_count": null,
   "id": "fd770801",
   "metadata": {},
   "outputs": [],
   "source": [
    "plt.figure(figsize=(10, 6))\n",
    "sns.boxplot(x='Type_of_vehicle', y='Time_taken(min)', data=df)\n",
    "plt.title('Type of Vehicle vs Delivery Time')\n",
    "plt.xlabel('Type of Vehicle')\n",
    "plt.ylabel('Time Taken (min)')\n",
    "plt.show()"
   ]
  }
 ],
 "metadata": {},
 "nbformat": 4,
 "nbformat_minor": 5
}
